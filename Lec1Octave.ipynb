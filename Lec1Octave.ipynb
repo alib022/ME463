{
 "cells": [
  {
   "cell_type": "markdown",
   "metadata": {
    "slideshow": {
     "slide_type": "slide"
    }
   },
   "source": [
    "# GNU Octave\n",
    "\n",
    "### Scientific Programming Language\n",
    "    Powerful mathematics-oriented syntax with built-in plotting and visualization tools\n",
    "    Free software, runs on GNU/Linux, macOS, BSD, and Windows\n",
    "    Drop-in compatible with many Matlab scripts"
   ]
  },
  {
   "cell_type": "markdown",
   "metadata": {},
   "source": [
    "You can find my lecture notes as well as codes at:\n",
    "https://github.com/alib022/ME463"
   ]
  },
  {
   "cell_type": "markdown",
   "metadata": {
    "slideshow": {
     "slide_type": "slide"
    }
   },
   "source": [
    "Example 1:"
   ]
  },
  {
   "cell_type": "code",
   "execution_count": null,
   "metadata": {
    "collapsed": true,
    "slideshow": {
     "slide_type": "subslide"
    }
   },
   "outputs": [],
   "source": [
    "b = [4; 9; 2] # Column vector\n",
    "A = [ 3 4 5;\n",
    "      1 3 1;\n",
    "      3 5 9 ]\n",
    "x = A \\ b     # Solve the system Ax = b"
   ]
  },
  {
   "cell_type": "markdown",
   "metadata": {
    "slideshow": {
     "slide_type": "slide"
    }
   },
   "source": [
    "Example 2:"
   ]
  },
  {
   "cell_type": "code",
   "execution_count": null,
   "metadata": {
    "collapsed": true,
    "slideshow": {
     "slide_type": "subslide"
    }
   },
   "outputs": [],
   "source": [
    "x = -10:0.1:10; # Create an evenly-spaced vector from -10..10\n",
    "y = sin (x);    # y is also a vector\n",
    "plot (x, y);\n",
    "title (\"Simple 2-D Plot\");\n",
    "xlabel (\"x\");\n",
    "ylabel (\"sin (x)\");"
   ]
  },
  {
   "cell_type": "markdown",
   "metadata": {},
   "source": [
    "###References:\n",
    "\n",
    "http://www.octave.org\n",
    "\n",
    "http://www.octave-online.net"
   ]
  }
 ],
 "metadata": {
  "kernelspec": {
   "display_name": "Python [Root]",
   "language": "python",
   "name": "Python [Root]"
  },
  "language_info": {
   "codemirror_mode": {
    "name": "ipython",
    "version": 3
   },
   "file_extension": ".py",
   "mimetype": "text/x-python",
   "name": "python",
   "nbconvert_exporter": "python",
   "pygments_lexer": "ipython3",
   "version": "3.5.2"
  }
 },
 "nbformat": 4,
 "nbformat_minor": 0
}
