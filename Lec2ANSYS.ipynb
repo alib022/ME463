{
 "cells": [
  {
   "cell_type": "code",
   "execution_count": null,
   "metadata": {
    "collapsed": true
   },
   "outputs": [],
   "source": [
    "finish\n",
    "/clear           ! clear the database for new simulation\n",
    "\n",
    "/title, Four-spring static analysis problem\n",
    "\n",
    "/com, *************************************\n",
    "/com, Example problem: four-spring system\n",
    "/com, *************************************\n",
    "\n",
    "! Define problem parameters (stifnesses and loads)\n",
    "\n",
    "L=10.0                    ! length of each spring (m)\n",
    "Fa=-100                   \n",
    "k1=100\n",
    "k2=200\n",
    "k3=300\n",
    "\n",
    "/prep7  \n",
    "et,1,14 \n",
    "keyopt,1,2,1\n",
    "r,1,k1  \n",
    "r,2,k2  \n",
    "r,3,k3  \n",
    "rlist \n",
    "\n",
    "n,1,0,0,0\n",
    "n,2,L,0,0\n",
    "n,3,L,L/2,0\n",
    "n,4,L,-L/2,0\n",
    "n,5,L+L,L/2,0\n",
    "n,6,L+L,0,0\n",
    "n,7,L+L,-L/2,0\n",
    "\n",
    "real,1\n",
    "e,1,2\n",
    "\n",
    "real,2\n",
    "e,2,6\n",
    "\n",
    "real,3\n",
    "e,3,5\n",
    "e,4,7\n",
    "\n",
    "eplot\n",
    "\n",
    "cp,1,ux,2,3,4\n",
    "\n",
    "d,5,ux,0\n",
    "d,6,ux,0\n",
    "d,7,ux,0\n",
    "\n",
    "f,1,fx,Fa\n",
    "\n",
    "finish\n",
    "\n",
    "\n",
    "/SOL\n",
    "/STATUS,SOLU\n",
    "SOLVE   \n"
   ]
  }
 ],
 "metadata": {
  "kernelspec": {
   "display_name": "Python [Root]",
   "language": "python",
   "name": "Python [Root]"
  },
  "language_info": {
   "codemirror_mode": {
    "name": "ipython",
    "version": 3
   },
   "file_extension": ".py",
   "mimetype": "text/x-python",
   "name": "python",
   "nbconvert_exporter": "python",
   "pygments_lexer": "ipython3",
   "version": "3.5.2"
  }
 },
 "nbformat": 4,
 "nbformat_minor": 0
}
